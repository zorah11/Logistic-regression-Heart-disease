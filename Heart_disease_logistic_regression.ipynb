{
 "cells": [
  {
   "cell_type": "markdown",
   "id": "5bde7527",
   "metadata": {},
   "source": [
    "# Logistic regression To predict heart disease"
   ]
  },
  {
   "cell_type": "code",
   "execution_count": null,
   "id": "0de4142f",
   "metadata": {},
   "outputs": [],
   "source": [
    "import numpy as np\n",
    "import pandas as pd"
   ]
  },
  {
   "cell_type": "code",
   "execution_count": 2,
   "id": "4b0338a9",
   "metadata": {},
   "outputs": [],
   "source": [
    "fullData = pd.read_csv(\"framingham.csv\", na_values=[\"NA\"])\n",
    "fullData = fullData.fillna(fullData.mean())"
   ]
  },
  {
   "cell_type": "markdown",
   "id": "83c7cb48",
   "metadata": {},
   "source": [
    "Reading the framingham.csv and cleaning it by making All NA cells NAN and replacing them with a mean value of the column"
   ]
  },
  {
   "cell_type": "code",
   "execution_count": 3,
   "id": "d021b577",
   "metadata": {},
   "outputs": [],
   "source": [
    "trainSize = 0.8\n",
    "trainData = fullData.iloc[:int(len(fullData) * trainSize)]\n",
    "testData = fullData.iloc[int(len(fullData) * trainSize):]"
   ]
  },
  {
   "cell_type": "markdown",
   "id": "b2e1eca0",
   "metadata": {},
   "source": [
    "Separating the code into training data (80%) and testing data(20%)"
   ]
  },
  {
   "cell_type": "code",
   "execution_count": 4,
   "id": "3d90e6b6",
   "metadata": {},
   "outputs": [],
   "source": [
    "x_train =  trainData.iloc[:, :15].values\n",
    "y_train = trainData.iloc[:,15:].values\n",
    "x_test =  testData.iloc[:, :15].values\n",
    "y_test = testData.iloc[:,15:].values"
   ]
  },
  {
   "cell_type": "markdown",
   "id": "65062f32",
   "metadata": {},
   "source": [
    "Separating the input features from the output for both training and test data set "
   ]
  },
  {
   "cell_type": "code",
   "execution_count": 5,
   "id": "e094dc01",
   "metadata": {},
   "outputs": [],
   "source": [
    "y_train =y_train.reshape(x_train.shape[0])\n",
    "y_test =y_test.reshape(x_test.shape[0])"
   ]
  },
  {
   "cell_type": "markdown",
   "id": "d2ac4584",
   "metadata": {},
   "source": [
    "Rehaping the y_train and y_test into 1 dimension array "
   ]
  },
  {
   "cell_type": "code",
   "execution_count": 6,
   "id": "7d66514f",
   "metadata": {},
   "outputs": [],
   "source": [
    "def logisticRegression(lr,iterations,X,y):\n",
    "    samples =X.shape[0]\n",
    "    features = X.shape[1]\n",
    "    w = np.zeros(features)\n",
    "    b = 0\n",
    "    for i in range(iterations):\n",
    "        linear_pred = np.dot(X,w) + b\n",
    "        prid = 1/(1+ np.exp(-linear_pred))\n",
    "        dw = (1/samples) *np.dot(X.T,(prid - y))\n",
    "        db = (1/samples) *np.sum(prid-y)\n",
    "\n",
    "        w = w - lr*dw\n",
    "        b = b - lr*db\n",
    "\n",
    "    l_pred = np.dot(x_test, w) + b\n",
    "    y_pred = prid = 1/(1+ np.exp(-l_pred))\n",
    "    class_pred = [0 if y <= 0.5 else 1 for y in y_pred]\n",
    "    return class_pred"
   ]
  },
  {
   "cell_type": "markdown",
   "id": "b44894ce",
   "metadata": {},
   "source": [
    "This function takes advantage of the linear relation of the features with their weights (w) and a bias (b). This relation is then used as input into a sigmoid function to produce a value between zero and one, which is the prediction (prid). Then gradient descent is used to find the suitable values of w and b given a certain number of iterations and a good learning rate. After the values of w and b are found, the test dataset is used to generate a predicted set of samples that are compared with the actual values to determine the accuracy of the data."
   ]
  },
  {
   "cell_type": "code",
   "execution_count": 7,
   "id": "96fcfc4e",
   "metadata": {},
   "outputs": [
    {
     "name": "stdout",
     "output_type": "stream",
     "text": [
      "Finished with an accuracy of :0.8514150943396226\n"
     ]
    }
   ],
   "source": [
    "y_pred= logisticRegression(0.0001,10000,x_train,y_train)\n",
    "accuracy = np.sum(y_pred==y_test)/len(y_test)\n",
    "print(f\"Finished with an accuracy of :{accuracy}\")"
   ]
  }
 ],
 "metadata": {
  "kernelspec": {
   "display_name": "Python 3 (ipykernel)",
   "language": "python",
   "name": "python3"
  },
  "language_info": {
   "codemirror_mode": {
    "name": "ipython",
    "version": 3
   },
   "file_extension": ".py",
   "mimetype": "text/x-python",
   "name": "python",
   "nbconvert_exporter": "python",
   "pygments_lexer": "ipython3",
   "version": "3.11.5"
  }
 },
 "nbformat": 4,
 "nbformat_minor": 5
}
