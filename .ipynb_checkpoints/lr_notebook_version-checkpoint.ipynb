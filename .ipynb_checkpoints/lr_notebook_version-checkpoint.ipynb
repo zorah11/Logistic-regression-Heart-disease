{
 "cells": [
  {
   "cell_type": "code",
   "execution_count": 1,
   "id": "72d4ef50",
   "metadata": {},
   "outputs": [],
   "source": [
    "import pandas as pd\n",
    "import numpy as np"
   ]
  },
  {
   "cell_type": "code",
   "execution_count": 9,
   "id": "a969eb5e",
   "metadata": {},
   "outputs": [],
   "source": [
    "fullData = pd.read_csv(\"framingham.csv\")"
   ]
  },
  {
   "cell_type": "code",
   "execution_count": 10,
   "id": "fa08be4d",
   "metadata": {},
   "outputs": [],
   "source": [
    "trainData = fullData.iloc[:int(len(fullData)*0.8)]"
   ]
  },
  {
   "cell_type": "code",
   "execution_count": 8,
   "id": "5678b75a",
   "metadata": {},
   "outputs": [],
   "source": [
    "testData = fullData.iloc[int(len(fullData)*0.8):]"
   ]
  },
  {
   "cell_type": "code",
   "execution_count": 11,
   "id": "bc16bea2",
   "metadata": {},
   "outputs": [],
   "source": [
    "x_train= trainData.iloc[:,:15].values\n",
    "Y_train= trainData.iloc[:,15:16].values\n",
    "x_test= trainData.iloc[:,:15].values\n",
    "Y_test= trainData.iloc[:,15:16].values"
   ]
  },
  {
   "cell_type": "code",
   "execution_count": 13,
   "id": "056b5dce",
   "metadata": {},
   "outputs": [],
   "source": [
    "features = x_train.shape[1]\n",
    "samples = x_train.shape[0]"
   ]
  },
  {
   "cell_type": "code",
   "execution_count": 14,
   "id": "2451bd68",
   "metadata": {},
   "outputs": [],
   "source": [
    "w = np.zeros(features)\n",
    "b=0"
   ]
  },
  {
   "cell_type": "code",
   "execution_count": null,
   "id": "8e5439ad",
   "metadata": {},
   "outputs": [],
   "source": [
    "def logisticRegression(lr,iterations):"
   ]
  }
 ],
 "metadata": {
  "kernelspec": {
   "display_name": "Python 3 (ipykernel)",
   "language": "python",
   "name": "python3"
  },
  "language_info": {
   "codemirror_mode": {
    "name": "ipython",
    "version": 3
   },
   "file_extension": ".py",
   "mimetype": "text/x-python",
   "name": "python",
   "nbconvert_exporter": "python",
   "pygments_lexer": "ipython3",
   "version": "3.11.5"
  }
 },
 "nbformat": 4,
 "nbformat_minor": 5
}
